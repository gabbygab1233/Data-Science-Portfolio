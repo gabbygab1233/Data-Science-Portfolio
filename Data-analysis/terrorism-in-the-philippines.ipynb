{
 "cells": [
  {
   "cell_type": "markdown",
   "metadata": {},
   "source": [
    "# Terrorism in the Philippines\n",
    "* Terrorism is a major social issue in the Philippines and is linked to the Moro conflict and CPP-NPA-NDF rebellion is a crime under the Human Security Act of 2007 which describes such acts as causing \"widespread and extraordinary fear and panic among the populace\". The first group to be officially listed as a terrorist organization under the law is the Abu Sayyaf on September 10, 2015 by the Basilan provincial court. \n",
    "\n",
    "\n",
    "![](https://si.wsj.net/public/resources/images/BN-VA033_TERROR_GR_20170908115505.jpg)\n",
    "\n",
    "Since January 2000 radical Islamist groups and Islamist separatist forces in the Philippines have carried out over 40 major bombings against civilians and civilian property, mostly in the southern regions of the country around Mindanao, Basilan, Jolo and other nearby islands. Numerous bombings have also been carried out in and around Metro Manila, though several hundred kilometres from the conflict in the southern regions, due to its political importance. In the period from 2000 to 2007 attacks killed nearly 400 Filipino civilians and injured well over 1500 more, more casualties than caused by bombings and other attacks in Indonesia, Morocco, Spain, Turkey, or Britain during the same period.\n",
    "\n",
    "Public transport and other gathering places, such as street markets, have been the favoured bombing targets, however large-scale abductions and shootings have also been carried out by the groups, predominantly by Abu Sayyaf and the Rajah Solaiman Movement, two groups that had claimed responsibility for most of the attacks."
   ]
  },
  {
   "cell_type": "code",
   "execution_count": 1,
   "metadata": {
    "_cell_guid": "b1076dfc-b9ad-4769-8c92-a6c4dae69d19",
    "_uuid": "8f2839f25d086af736a60e9eeb907d3b93b6e0e5"
   },
   "outputs": [
    {
     "name": "stdout",
     "output_type": "stream",
     "text": [
      "/kaggle/input/gtd/globalterrorismdb_0718dist.csv\n"
     ]
    },
    {
     "data": {
      "text/plain": [
       "(181691, 135)"
      ]
     },
     "execution_count": 1,
     "metadata": {},
     "output_type": "execute_result"
    }
   ],
   "source": [
    "import warnings\n",
    "import os\n",
    "import numpy as np \n",
    "import pandas as pd \n",
    "import seaborn as sns\n",
    "import matplotlib.pyplot as plt\n",
    "import plotly.express as px\n",
    "\n",
    "\n",
    "sns.set(style='whitegrid')\n",
    "plt.style.use('seaborn-muted')\n",
    "\n",
    "warnings.filterwarnings('ignore')\n",
    "\n",
    "for dirname, _, filenames in os.walk('/kaggle/input'):\n",
    "    for filename in filenames:\n",
    "        print(os.path.join(dirname, filename))\n",
    "        \n",
    "\n",
    "df = pd.read_csv('/kaggle/input/gtd/globalterrorismdb_0718dist.csv', encoding='ISO-8859-1') \n",
    "\n",
    "df.shape"
   ]
  },
  {
   "cell_type": "code",
   "execution_count": 2,
   "metadata": {
    "_cell_guid": "79c7e3d0-c299-4dcb-8224-4455121ee9b0",
    "_uuid": "d629ff2d2480ee46fbb7e2d37f6b5fab8052498a"
   },
   "outputs": [
    {
     "data": {
      "text/html": [
       "<div>\n",
       "<style scoped>\n",
       "    .dataframe tbody tr th:only-of-type {\n",
       "        vertical-align: middle;\n",
       "    }\n",
       "\n",
       "    .dataframe tbody tr th {\n",
       "        vertical-align: top;\n",
       "    }\n",
       "\n",
       "    .dataframe thead th {\n",
       "        text-align: right;\n",
       "    }\n",
       "</style>\n",
       "<table border=\"1\" class=\"dataframe\">\n",
       "  <thead>\n",
       "    <tr style=\"text-align: right;\">\n",
       "      <th></th>\n",
       "      <th>eventid</th>\n",
       "      <th>iyear</th>\n",
       "      <th>imonth</th>\n",
       "      <th>iday</th>\n",
       "      <th>approxdate</th>\n",
       "      <th>extended</th>\n",
       "      <th>resolution</th>\n",
       "      <th>country</th>\n",
       "      <th>country_txt</th>\n",
       "      <th>region</th>\n",
       "      <th>...</th>\n",
       "      <th>addnotes</th>\n",
       "      <th>scite1</th>\n",
       "      <th>scite2</th>\n",
       "      <th>scite3</th>\n",
       "      <th>dbsource</th>\n",
       "      <th>INT_LOG</th>\n",
       "      <th>INT_IDEO</th>\n",
       "      <th>INT_MISC</th>\n",
       "      <th>INT_ANY</th>\n",
       "      <th>related</th>\n",
       "    </tr>\n",
       "  </thead>\n",
       "  <tbody>\n",
       "    <tr>\n",
       "      <th>0</th>\n",
       "      <td>197000000001</td>\n",
       "      <td>1970</td>\n",
       "      <td>7</td>\n",
       "      <td>2</td>\n",
       "      <td>NaN</td>\n",
       "      <td>0</td>\n",
       "      <td>NaN</td>\n",
       "      <td>58</td>\n",
       "      <td>Dominican Republic</td>\n",
       "      <td>2</td>\n",
       "      <td>...</td>\n",
       "      <td>NaN</td>\n",
       "      <td>NaN</td>\n",
       "      <td>NaN</td>\n",
       "      <td>NaN</td>\n",
       "      <td>PGIS</td>\n",
       "      <td>0</td>\n",
       "      <td>0</td>\n",
       "      <td>0</td>\n",
       "      <td>0</td>\n",
       "      <td>NaN</td>\n",
       "    </tr>\n",
       "    <tr>\n",
       "      <th>1</th>\n",
       "      <td>197000000002</td>\n",
       "      <td>1970</td>\n",
       "      <td>0</td>\n",
       "      <td>0</td>\n",
       "      <td>NaN</td>\n",
       "      <td>0</td>\n",
       "      <td>NaN</td>\n",
       "      <td>130</td>\n",
       "      <td>Mexico</td>\n",
       "      <td>1</td>\n",
       "      <td>...</td>\n",
       "      <td>NaN</td>\n",
       "      <td>NaN</td>\n",
       "      <td>NaN</td>\n",
       "      <td>NaN</td>\n",
       "      <td>PGIS</td>\n",
       "      <td>0</td>\n",
       "      <td>1</td>\n",
       "      <td>1</td>\n",
       "      <td>1</td>\n",
       "      <td>NaN</td>\n",
       "    </tr>\n",
       "    <tr>\n",
       "      <th>2</th>\n",
       "      <td>197001000001</td>\n",
       "      <td>1970</td>\n",
       "      <td>1</td>\n",
       "      <td>0</td>\n",
       "      <td>NaN</td>\n",
       "      <td>0</td>\n",
       "      <td>NaN</td>\n",
       "      <td>160</td>\n",
       "      <td>Philippines</td>\n",
       "      <td>5</td>\n",
       "      <td>...</td>\n",
       "      <td>NaN</td>\n",
       "      <td>NaN</td>\n",
       "      <td>NaN</td>\n",
       "      <td>NaN</td>\n",
       "      <td>PGIS</td>\n",
       "      <td>-9</td>\n",
       "      <td>-9</td>\n",
       "      <td>1</td>\n",
       "      <td>1</td>\n",
       "      <td>NaN</td>\n",
       "    </tr>\n",
       "    <tr>\n",
       "      <th>3</th>\n",
       "      <td>197001000002</td>\n",
       "      <td>1970</td>\n",
       "      <td>1</td>\n",
       "      <td>0</td>\n",
       "      <td>NaN</td>\n",
       "      <td>0</td>\n",
       "      <td>NaN</td>\n",
       "      <td>78</td>\n",
       "      <td>Greece</td>\n",
       "      <td>8</td>\n",
       "      <td>...</td>\n",
       "      <td>NaN</td>\n",
       "      <td>NaN</td>\n",
       "      <td>NaN</td>\n",
       "      <td>NaN</td>\n",
       "      <td>PGIS</td>\n",
       "      <td>-9</td>\n",
       "      <td>-9</td>\n",
       "      <td>1</td>\n",
       "      <td>1</td>\n",
       "      <td>NaN</td>\n",
       "    </tr>\n",
       "    <tr>\n",
       "      <th>4</th>\n",
       "      <td>197001000003</td>\n",
       "      <td>1970</td>\n",
       "      <td>1</td>\n",
       "      <td>0</td>\n",
       "      <td>NaN</td>\n",
       "      <td>0</td>\n",
       "      <td>NaN</td>\n",
       "      <td>101</td>\n",
       "      <td>Japan</td>\n",
       "      <td>4</td>\n",
       "      <td>...</td>\n",
       "      <td>NaN</td>\n",
       "      <td>NaN</td>\n",
       "      <td>NaN</td>\n",
       "      <td>NaN</td>\n",
       "      <td>PGIS</td>\n",
       "      <td>-9</td>\n",
       "      <td>-9</td>\n",
       "      <td>1</td>\n",
       "      <td>1</td>\n",
       "      <td>NaN</td>\n",
       "    </tr>\n",
       "  </tbody>\n",
       "</table>\n",
       "<p>5 rows × 135 columns</p>\n",
       "</div>"
      ],
      "text/plain": [
       "        eventid  iyear  imonth  iday approxdate  extended resolution  country  \\\n",
       "0  197000000001   1970       7     2        NaN         0        NaN       58   \n",
       "1  197000000002   1970       0     0        NaN         0        NaN      130   \n",
       "2  197001000001   1970       1     0        NaN         0        NaN      160   \n",
       "3  197001000002   1970       1     0        NaN         0        NaN       78   \n",
       "4  197001000003   1970       1     0        NaN         0        NaN      101   \n",
       "\n",
       "          country_txt  region  ... addnotes scite1 scite2  scite3  dbsource  \\\n",
       "0  Dominican Republic       2  ...      NaN    NaN    NaN     NaN      PGIS   \n",
       "1              Mexico       1  ...      NaN    NaN    NaN     NaN      PGIS   \n",
       "2         Philippines       5  ...      NaN    NaN    NaN     NaN      PGIS   \n",
       "3              Greece       8  ...      NaN    NaN    NaN     NaN      PGIS   \n",
       "4               Japan       4  ...      NaN    NaN    NaN     NaN      PGIS   \n",
       "\n",
       "   INT_LOG  INT_IDEO INT_MISC INT_ANY  related  \n",
       "0        0         0        0       0      NaN  \n",
       "1        0         1        1       1      NaN  \n",
       "2       -9        -9        1       1      NaN  \n",
       "3       -9        -9        1       1      NaN  \n",
       "4       -9        -9        1       1      NaN  \n",
       "\n",
       "[5 rows x 135 columns]"
      ]
     },
     "execution_count": 2,
     "metadata": {},
     "output_type": "execute_result"
    }
   ],
   "source": [
    "df.head() "
   ]
  },
  {
   "cell_type": "markdown",
   "metadata": {},
   "source": [
    "# What is the most targeted countries by terrorist in Southeast Asia ?"
   ]
  },
  {
   "cell_type": "code",
   "execution_count": 3,
   "metadata": {},
   "outputs": [
    {
     "data": {
      "text/plain": [
       "Philippines      6908\n",
       "Thailand         3849\n",
       "Indonesia         761\n",
       "Myanmar           546\n",
       "Cambodia          259\n",
       "Malaysia           99\n",
       "Laos               27\n",
       "Vietnam            12\n",
       "East Timor         10\n",
       "Singapore           7\n",
       "Brunei              6\n",
       "South Vietnam       1\n",
       "Name: country_txt, dtype: int64"
      ]
     },
     "execution_count": 3,
     "metadata": {},
     "output_type": "execute_result"
    }
   ],
   "source": [
    "souths = df[df.region_txt == 'Southeast Asia']\n",
    "souths.country_txt.value_counts()"
   ]
  },
  {
   "cell_type": "markdown",
   "metadata": {},
   "source": [
    "# Who is responsible for the attacks or most active terror groups ?\n",
    "* New People's Army ( NPA ) is the most responsible for the attacks in the philippines\n",
    "\n",
    "![](//upload.wikimedia.org/wikipedia/en/thumb/d/d6/NPA_logo.svg/200px-NPA_logo.svg.png)\n",
    "\n",
    "The New People's Army (NPA) (Filipino: Bagong Hukbong Bayan) is the armed wing of the Communist Party of the Philippines (CPP). It was formed and founded by Jose Maria Sison, Bernabe Buscayno, and Lucio Manlapaz on 29 March 1969. The Maoist NPA conducts its armed guerrilla struggle based on the strategical line of protracted people's war.\n",
    "\n",
    "The NPA extorts \"taxes\", mostly from businesses, in the areas where it operates.The CPP refers to the NPA as \"the tax enforcement agency of the people's revolutionary government\".\"Revolutionary taxes are used to fund community services and never go to the pockets of corrupt leaders\" said National Democratic Front (NDF) spokesperson, Fidel Agcaoili.\n",
    "\n",
    "Peace negotiations have reached an impasse. The Philippine government has specifically drafted a \"new framework\" which seeks to end the 27-year-long stalemate in the talks, hoping to build ground with the leftist rebels that is more comprehensive than human rights, the only issue on which the negotiating parties agree.The NDF wants the Comprehensive Agreement on Socio-Economic Reforms (CASER) signed first before the bilateral ceasefire agreement, or both can be signed simultaneously.\n",
    "\n",
    "However, relations with the government soured in 2017. President Rodrigo Duterte officially designated the group as a terrorist organization in late 2017. Both the United States and the European Union had designated the NPA as a terrorist organization prior to the Duterte government."
   ]
  },
  {
   "cell_type": "code",
   "execution_count": 4,
   "metadata": {},
   "outputs": [
    {
     "data": {
      "text/plain": [
       "New People's Army (NPA)                        2770\n",
       "Unknown                                        2339\n",
       "Abu Sayyaf Group (ASG)                          508\n",
       "Bangsamoro Islamic Freedom Movement (BIFM)      391\n",
       "Moro Islamic Liberation Front (MILF)            366\n",
       "Moro National Liberation Front (MNLF)           197\n",
       "Communists                                       39\n",
       "Maute Group                                      31\n",
       "April 6th Liberation Movement                    31\n",
       "Islamic State of Iraq and the Levant (ISIL)      26\n",
       "Name: gname, dtype: int64"
      ]
     },
     "execution_count": 4,
     "metadata": {},
     "output_type": "execute_result"
    }
   ],
   "source": [
    "ph_records = df[df.country_txt == 'Philippines']\n",
    "ph_records.gname.value_counts()[:10]"
   ]
  },
  {
   "cell_type": "markdown",
   "metadata": {},
   "source": [
    "# Number of attacks every year by NPA\n",
    "* In 2017, 358 number of terrorist attacks from New People's Army and it's the highest number of attacks from 1970 to 2017"
   ]
  },
  {
   "cell_type": "code",
   "execution_count": 5,
   "metadata": {},
   "outputs": [
    {
     "data": {
      "text/plain": [
       "2017    358\n",
       "2015    322\n",
       "2014    289\n",
       "2013    210\n",
       "1990    183\n",
       "1988    178\n",
       "2016    172\n",
       "1987    118\n",
       "1989    106\n",
       "1991     96\n",
       "2012     86\n",
       "2008     86\n",
       "1985     84\n",
       "1992     64\n",
       "2009     57\n",
       "2010     54\n",
       "2011     48\n",
       "1986     46\n",
       "2003     19\n",
       "2006     18\n",
       "1984     18\n",
       "2000     16\n",
       "2002     14\n",
       "2004     13\n",
       "1982     13\n",
       "1979     13\n",
       "1981     12\n",
       "2007     12\n",
       "1994     10\n",
       "2001      9\n",
       "2005      9\n",
       "1983      7\n",
       "1999      6\n",
       "1978      5\n",
       "1997      4\n",
       "1980      3\n",
       "1976      3\n",
       "1977      2\n",
       "1996      2\n",
       "1995      2\n",
       "1970      2\n",
       "1971      1\n",
       "Name: iyear, dtype: int64"
      ]
     },
     "execution_count": 5,
     "metadata": {},
     "output_type": "execute_result"
    }
   ],
   "source": [
    "NPA = ph_records[ph_records.gname == \"New People's Army (NPA)\"].sort_values(by='iyear')\n",
    "NPA.iyear.value_counts()"
   ]
  },
  {
   "cell_type": "markdown",
   "metadata": {},
   "source": [
    "# How many people has NPA Killed over the years in philippines?\n",
    "\n"
   ]
  },
  {
   "cell_type": "code",
   "execution_count": 6,
   "metadata": {},
   "outputs": [
    {
     "name": "stdout",
     "output_type": "stream",
     "text": [
      "Number of Kills by NPA in Philippines in  1970  =  41.0\n",
      "Number of Kills by NPA in Philippines in  1971  =  0.0\n",
      "Number of Kills by NPA in Philippines in  1972  =  2.0\n",
      "Number of Kills by NPA in Philippines in  1973  =  0\n",
      "Number of Kills by NPA in Philippines in  1974  =  3.0\n",
      "Number of Kills by NPA in Philippines in  1975  =  1.0\n",
      "Number of Kills by NPA in Philippines in  1976  =  47.0\n",
      "Number of Kills by NPA in Philippines in  1977  =  0\n",
      "Number of Kills by NPA in Philippines in  1978  =  128.0\n",
      "Number of Kills by NPA in Philippines in  1979  =  107.0\n",
      "Number of Kills by NPA in Philippines in  1980  =  163.0\n",
      "Number of Kills by NPA in Philippines in  1981  =  176.0\n",
      "Number of Kills by NPA in Philippines in  1982  =  139.0\n",
      "Number of Kills by NPA in Philippines in  1983  =  101.0\n",
      "Number of Kills by NPA in Philippines in  1984  =  262.0\n",
      "Number of Kills by NPA in Philippines in  1985  =  452.0\n",
      "Number of Kills by NPA in Philippines in  1986  =  322.0\n",
      "Number of Kills by NPA in Philippines in  1987  =  404.0\n",
      "Number of Kills by NPA in Philippines in  1988  =  550.0\n",
      "Number of Kills by NPA in Philippines in  1989  =  393.0\n",
      "Number of Kills by NPA in Philippines in  1990  =  457.0\n",
      "Number of Kills by NPA in Philippines in  1991  =  432.0\n",
      "Number of Kills by NPA in Philippines in  1992  =  395.0\n",
      "Number of Kills by NPA in Philippines in  1993  =  0\n",
      "Number of Kills by NPA in Philippines in  1994  =  126.0\n",
      "Number of Kills by NPA in Philippines in  1995  =  201.0\n",
      "Number of Kills by NPA in Philippines in  1996  =  95.0\n",
      "Number of Kills by NPA in Philippines in  1997  =  98.0\n",
      "Number of Kills by NPA in Philippines in  1998  =  6.0\n",
      "Number of Kills by NPA in Philippines in  1999  =  45.0\n",
      "Number of Kills by NPA in Philippines in  2000  =  290.0\n",
      "Number of Kills by NPA in Philippines in  2001  =  154.0\n",
      "Number of Kills by NPA in Philippines in  2002  =  125.0\n",
      "Number of Kills by NPA in Philippines in  2003  =  288.0\n",
      "Number of Kills by NPA in Philippines in  2004  =  206.0\n",
      "Number of Kills by NPA in Philippines in  2005  =  49.0\n",
      "Number of Kills by NPA in Philippines in  2006  =  60.0\n",
      "Number of Kills by NPA in Philippines in  2007  =  115.0\n",
      "Number of Kills by NPA in Philippines in  2008  =  220.0\n",
      "Number of Kills by NPA in Philippines in  2009  =  151.0\n",
      "Number of Kills by NPA in Philippines in  2010  =  155.0\n",
      "Number of Kills by NPA in Philippines in  2011  =  127.0\n",
      "Number of Kills by NPA in Philippines in  2012  =  211.0\n",
      "Number of Kills by NPA in Philippines in  2013  =  432.0\n",
      "Number of Kills by NPA in Philippines in  2014  =  472.0\n",
      "Number of Kills by NPA in Philippines in  2015  =  447.0\n",
      "Number of Kills by NPA in Philippines in  2016  =  415.0\n",
      "Number of Kills by NPA in Philippines in  2017  =  496.0\n"
     ]
    }
   ],
   "source": [
    "for year in range(1970, 2018):\n",
    "    no_kill = sum(ph_records['nkill'][ph_records['iyear'] == year].dropna())\n",
    "    print(\"Number of Kills by NPA in Philippines in \", year,\" = \" , no_kill)"
   ]
  },
  {
   "cell_type": "code",
   "execution_count": 7,
   "metadata": {},
   "outputs": [
    {
     "name": "stdout",
     "output_type": "stream",
     "text": [
      "Number of people killed: 6694\n",
      "Number of people Injured: 6605\n"
     ]
    }
   ],
   "source": [
    "print('Number of people killed:', ph_records['nkill'].count())\n",
    "print('Number of people Injured:', ph_records['nwound'].count())\n"
   ]
  },
  {
   "cell_type": "markdown",
   "metadata": {},
   "source": [
    "# What kind of attacks does NPA usually do in the Philippines"
   ]
  },
  {
   "cell_type": "code",
   "execution_count": 8,
   "metadata": {},
   "outputs": [
    {
     "data": {
      "image/png": "[encoded data removed]",
      "text/plain": [
       "<Figure size 720x360 with 1 Axes>"
      ]
     },
     "metadata": {
      "needs_background": "light"
     },
     "output_type": "display_data"
    }
   ],
   "source": [
    "f, ax = plt.subplots(figsize=(10,5)) \n",
    "sns.countplot(y='attacktype1_txt', data=ph_records);\n",
    "plt.ylabel('Types of Attacks');\n",
    "plt.xlabel('No. of Attacks');"
   ]
  },
  {
   "cell_type": "markdown",
   "metadata": {},
   "source": [
    "# Which part of the philippines is the most targeted of terrorist ?\n",
    "\n",
    "Maguindanao (Maguindanaon: Prubinsya nu Magindanaw; Iranun: Perobinsia a Magindanao) is a province in the Philippines located in the Bangsamoro Autonomous Region in Muslim Mindanao (BARMM). Since 2014 the provincial capital is Buluan but the legislative branch of the provincial government, the Sangguniang Panlalawigan, convenes in the old provincial capitol in the town of Sultan Kudarat. It borders Lanao del Sur to the north, Cotabato to the east, Sultan Kudarat to the south, and the Illana Bay to the west.\n",
    "\n",
    "![](https://upload.wikimedia.org/wikipedia/commons/thumb/d/de/Ph_locator_maguindanao_sultan_kudarat.png/250px-Ph_locator_maguindanao_sultan_kudarat.png)\n",
    "\n",
    "\n"
   ]
  },
  {
   "cell_type": "code",
   "execution_count": 9,
   "metadata": {},
   "outputs": [
    {
     "data": {
      "text/plain": [
       "Maguindanao             683\n",
       "North Cotabato          529\n",
       "Metropolitian Manila    473\n",
       "Unknown                 380\n",
       "Basilan                 342\n",
       "Zamboanga del Sur       249\n",
       "Sulu                    245\n",
       "Davao del Sur           241\n",
       "Metropolitan Manila     192\n",
       "Compostela Valley       184\n",
       "Name: provstate, dtype: int64"
      ]
     },
     "execution_count": 9,
     "metadata": {},
     "output_type": "execute_result"
    }
   ],
   "source": [
    "ph_records.provstate.value_counts()[:10]"
   ]
  },
  {
   "cell_type": "markdown",
   "metadata": {},
   "source": [
    "# Who are the targets for the Bombing/Explosion ?\n",
    "\n"
   ]
  },
  {
   "cell_type": "code",
   "execution_count": 10,
   "metadata": {},
   "outputs": [
    {
     "data": {
      "text/plain": [
       "Business                          403\n",
       "Military                          370\n",
       "Private Citizens & Property       360\n",
       "Government (General)              223\n",
       "Unknown                           180\n",
       "Police                            152\n",
       "Utilities                         147\n",
       "Transportation                    114\n",
       "Religious Figures/Institutions     66\n",
       "Educational Institution            56\n",
       "Telecommunication                  46\n",
       "Government (Diplomatic)            21\n",
       "Airports & Aircraft                19\n",
       "Terrorists/Non-State Militia       16\n",
       "Food or Water Supply               10\n",
       "Maritime                            9\n",
       "Journalists & Media                 8\n",
       "NGO                                 7\n",
       "Tourists                            5\n",
       "Other                               1\n",
       "Name: targtype1_txt, dtype: int64"
      ]
     },
     "execution_count": 10,
     "metadata": {},
     "output_type": "execute_result"
    }
   ],
   "source": [
    "ph_records['targtype1_txt'][ph_records['attacktype1_txt'] == 'Bombing/Explosion'].value_counts()"
   ]
  },
  {
   "cell_type": "markdown",
   "metadata": {},
   "source": [
    "# Summary\n",
    "\n",
    "* **What is the most targeted countries by terrorist in Southeast Asia **  ( Philippines have 6908 number of terrorist attack ) \n",
    "* **Who is responsible for the attacks or most active terror groups ?** ( New People's Army )\n",
    "* **Number of attacks every year by NPA** ( 1988 and 2017 have the highest case of terrorist attack )\n",
    "* **How many people has NPA Killed over the years in philippines?** ( 6694 killed and 6605 injured )\n",
    "* **What kind of attacks does NPA usually do in the Philippines** ( Bombing/Explosion )\n",
    "* **Who are the targets for the Bombing/Explosion ** ( Business / Military )\n"
   ]
  }
 ],
 "metadata": {
  "kernelspec": {
   "display_name": "Python 3",
   "language": "python",
   "name": "python3"
  },
  "language_info": {
   "codemirror_mode": {
    "name": "ipython",
    "version": 3
   },
   "file_extension": ".py",
   "mimetype": "text/x-python",
   "name": "python",
   "nbconvert_exporter": "python",
   "pygments_lexer": "ipython3",
   "version": "3.6.6"
  }
 },
 "nbformat": 4,
 "nbformat_minor": 1
}
