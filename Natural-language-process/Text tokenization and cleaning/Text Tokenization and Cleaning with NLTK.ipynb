{
 "cells": [
  {
   "cell_type": "code",
   "execution_count": 1,
   "metadata": {
    "scrolled": true
   },
   "outputs": [
    {
     "data": {
      "text/plain": [
       "192009"
      ]
     },
     "execution_count": 1,
     "metadata": {},
     "output_type": "execute_result"
    }
   ],
   "source": [
    "import nltk\n",
    "import re\n",
    "import string\n",
    "import json\n",
    "from nltk import FreqDist\n",
    "from nltk import sent_tokenize, word_tokenize\n",
    "from nltk.stem.porter import PorterStemmer\n",
    "\n",
    "# Load data\n",
    "def load_txt(text):\n",
    "    # open the file as read only\n",
    "    file = open(text,'r')\n",
    "    # read all text\n",
    "    txt = file.read()\n",
    "    # close the file\n",
    "    file.close()\n",
    "    return txt\n",
    "\n",
    "dt = load_txt('marcosspeech.txt')\n",
    "len(dt)"
   ]
  },
  {
   "cell_type": "markdown",
   "metadata": {},
   "source": [
    "# Text Tokenization and Cleaning\n",
    "\n",
    "* Split into Words\n",
    "* Convert to lowercase.\n",
    "* Remove punctuation from each token.\n",
    "* Filter out remaining tokens that are not alphabetic.\n",
    "* Filter out tokens that are stop words (English)"
   ]
  },
  {
   "cell_type": "code",
   "execution_count": 2,
   "metadata": {
    "scrolled": true
   },
   "outputs": [
    {
     "data": {
      "text/plain": [
       "13802"
      ]
     },
     "execution_count": 2,
     "metadata": {},
     "output_type": "execute_result"
    }
   ],
   "source": [
    "with open('engstopwords.json', 'r') as e:\n",
    "    stopwords_eng = json.load(e)\n",
    "    \n",
    "def clean_txt(docs):\n",
    "    # split into words\n",
    "    speech_words = nltk.word_tokenize(docs)\n",
    "    # convert to lower case\n",
    "    lower_text = [w.lower() for w in speech_words]\n",
    "    # prepare regex for char filtering\n",
    "    re_punc = re.compile('[%s]' % re.escape(string.punctuation))\n",
    "    # remove punctuation from each word\n",
    "    stripped = [re_punc.sub('', w) for w in lower_text]\n",
    "    # remove remaining tokens that are not alphabetic\n",
    "    words = [word for word in stripped if word.isalpha()]\n",
    "    # filter out stop words\n",
    "    words = [w for w in words if not w in  stopwords_eng]\n",
    "    return words\n",
    "\n",
    "tokens = clean_txt(dt)\n",
    "len(tokens)"
   ]
  },
  {
   "cell_type": "markdown",
   "metadata": {},
   "source": [
    "# Frequency of words"
   ]
  },
  {
   "cell_type": "code",
   "execution_count": 9,
   "metadata": {},
   "outputs": [
    {
     "data": {
      "text/plain": [
       "FreqDist({'program': 133, 'development': 123, 'national': 113, 'government': 111, 'year': 95, 'country': 64, 'system': 58, 'projects': 55, 'administration': 54, 'public': 51, ...})"
      ]
     },
     "execution_count": 9,
     "metadata": {},
     "output_type": "execute_result"
    }
   ],
   "source": [
    "dist = FreqDist(tokens)\n",
    "dist"
   ]
  },
  {
   "cell_type": "code",
   "execution_count": 10,
   "metadata": {},
   "outputs": [
    {
     "data": {
      "text/plain": [
       "4149"
      ]
     },
     "execution_count": 10,
     "metadata": {},
     "output_type": "execute_result"
    }
   ],
   "source": [
    "len(dist)"
   ]
  }
 ],
 "metadata": {
  "kernelspec": {
   "display_name": "Python 3",
   "language": "python",
   "name": "python3"
  },
  "language_info": {
   "codemirror_mode": {
    "name": "ipython",
    "version": 3
   },
   "file_extension": ".py",
   "mimetype": "text/x-python",
   "name": "python",
   "nbconvert_exporter": "python",
   "pygments_lexer": "ipython3",
   "version": "3.7.3"
  }
 },
 "nbformat": 4,
 "nbformat_minor": 2
}
